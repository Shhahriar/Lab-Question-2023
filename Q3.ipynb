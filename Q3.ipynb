{
 "cells": [
  {
   "cell_type": "code",
   "execution_count": 30,
   "id": "a3e59a43-a2a4-437c-b457-012fd8de5477",
   "metadata": {},
   "outputs": [
    {
     "name": "stdout",
     "output_type": "stream",
     "text": [
      "Eigenvalues and Explained Variance:\n",
      "Principal Component  Eigenvalue  Explained Variance  Cumulative Explained Variance\n",
      "                PC1    3.799475            0.542782                       0.542782\n",
      "                PC2    1.502328            0.214618                       0.757400\n",
      "                PC3    0.649807            0.092830                       0.850230\n",
      "                PC4    0.360057            0.051437                       0.901667\n",
      "                PC5    0.339162            0.048452                       0.950119\n",
      "                PC6    0.235253            0.033608                       0.983726\n",
      "                PC7    0.113917            0.016274                       1.000000\n",
      "\n",
      "Eigenvectors (Component Loadings):\n",
      "                          PC1       PC2       PC3       PC4       PC5       PC6       PC7\n",
      "Head length          0.276304  0.364768 -0.882275 -0.085739  0.067404  0.005385 -0.016387\n",
      "Head breadth         0.211864  0.639204  0.257528  0.687074 -0.081294  0.034956  0.017627\n",
      "Face breadth         0.295145  0.512393  0.381448 -0.698562  0.100718  0.033741 -0.074626\n",
      "Left finger length   0.437558 -0.234940  0.069924  0.101600  0.619237  0.318242  0.503390\n",
      "Left forearm length  0.455705 -0.276667  0.036669  0.113115  0.039077  0.290306 -0.784757\n",
      "Left foot length     0.450234 -0.178437  0.059125  0.052999  0.034409 -0.870489  0.014451\n",
      "Height               0.435689 -0.179540  0.006212 -0.081627 -0.769765  0.233030  0.352699\n"
     ]
    }
   ],
   "source": [
    "import pandas as pd\n",
    "import numpy as np\n",
    "import io\n",
    "\n",
    "\n",
    "# Your correlation matrix values (without headers)\n",
    "data = [\n",
    "    [1, 0.402, 0.396, 0.301, 0.305, 0.339, 0.34],\n",
    "    [0.402, 1, 0.618, 0.15, 0.135, 0.206, 0.183],\n",
    "    [0.396, 0.618, 1, 0.321, 0.289, 0.363, 0.345],\n",
    "    [0.301, 0.15, 0.321, 1, 0.846, 0.759, 0.661],\n",
    "    [0.305, 0.135, 0.289, 0.846, 1, 0.797, 0.8],\n",
    "    [0.339, 0.206, 0.363, 0.759, 0.797, 1, 0.736],\n",
    "    [0.34, 0.183, 0.345, 0.661, 0.8, 0.736, 1]\n",
    "]\n",
    "\n",
    "# Convert to NumPy array\n",
    "df = np.array(data)\n",
    "\n",
    "\n",
    "# Perform PCA by finding the eigenvalues and eigenvectors of the correlation matrix.\n",
    "# Step 1: Compute eigenvalues and eigenvectors.\n",
    "eigenvalues, eigenvectors = np.linalg.eig(df)\n",
    "\n",
    "# Step 2: Sort the eigenvalues and corresponding eigenvectors in descending order.\n",
    "sorted_indices = np.argsort(eigenvalues)[::-1]\n",
    "eigenvalues_sorted = eigenvalues[sorted_indices]\n",
    "eigenvectors_sorted = eigenvectors[:, sorted_indices]\n",
    "\n",
    "# Step 3: Calculate the explained variance and cumulative explained variance.\n",
    "total_variance = np.sum(eigenvalues_sorted)\n",
    "explained_variance_ratio = eigenvalues_sorted / total_variance\n",
    "cumulative_explained_variance = np.cumsum(explained_variance_ratio)\n",
    "\n",
    "# Step 4: Create a DataFrame to display the eigenvalues and explained variance.\n",
    "variance_df = pd.DataFrame({\n",
    "    'Principal Component': [f'PC{i+1}' for i in range(len(eigenvalues_sorted))],\n",
    "    'Eigenvalue': eigenvalues_sorted,\n",
    "    'Explained Variance': explained_variance_ratio,\n",
    "    'Cumulative Explained Variance': cumulative_explained_variance\n",
    "})\n",
    "\n",
    "# Step 5: Create a DataFrame for the eigenvectors (component loadings).\n",
    "eigenvector_df = pd.DataFrame(eigenvectors_sorted, index=df_corr.columns, columns=[f'PC{i+1}' for i in range(len(eigenvectors_sorted))])\n",
    "\n",
    "# Print the results.\n",
    "print(\"Eigenvalues and Explained Variance:\")\n",
    "print(variance_df.to_string(index=False))\n",
    "\n",
    "print(\"\\nEigenvectors (Component Loadings):\")\n",
    "print(eigenvector_df.to_string())"
   ]
  },
  {
   "cell_type": "markdown",
   "id": "5a423d73-c543-4cfa-966d-e8953af9bc06",
   "metadata": {},
   "source": [
    "Principal Component 1 (PC1): This component has strong positive loadings for Height, Left forearm length, Left foot length, and Left finger length. This suggests that PC1 represents a general measure of a person's overall body size.\n",
    "\n",
    "Principal Component 2 (PC2): This component is strongly loaded by Head breadth, Face breadth, and Head length. This indicates that PC2 primarily captures the variance related to a person's head and facial dimensions.\n",
    "\n",
    "\n",
    "\n",
    "\n",
    "\n",
    "\n",
    "\n"
   ]
  },
  {
   "cell_type": "code",
   "execution_count": null,
   "id": "2cd2321d-a4bb-41da-99b9-09a558da5cb0",
   "metadata": {},
   "outputs": [],
   "source": []
  }
 ],
 "metadata": {
  "kernelspec": {
   "display_name": "Python 3 (ipykernel)",
   "language": "python",
   "name": "python3"
  },
  "language_info": {
   "codemirror_mode": {
    "name": "ipython",
    "version": 3
   },
   "file_extension": ".py",
   "mimetype": "text/x-python",
   "name": "python",
   "nbconvert_exporter": "python",
   "pygments_lexer": "ipython3",
   "version": "3.12.7"
  }
 },
 "nbformat": 4,
 "nbformat_minor": 5
}
