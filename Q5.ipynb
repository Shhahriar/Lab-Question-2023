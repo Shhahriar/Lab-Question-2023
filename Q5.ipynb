{
 "cells": [
  {
   "cell_type": "code",
   "execution_count": 3,
   "id": "87616c6a-71d6-41f2-b2e0-f28958673cbd",
   "metadata": {},
   "outputs": [
    {
     "name": "stdout",
     "output_type": "stream",
     "text": [
      "Canonical correlations:\n",
      "Canonical Dimension 1: 0.464\n",
      "Canonical Dimension 2: 0.168\n",
      "Canonical Dimension 3: 0.104\n"
     ]
    }
   ],
   "source": [
    "import pandas as pd\n",
    "from sklearn.cross_decomposition import CCA\n",
    "import numpy as np\n",
    "# Load dataset\n",
    "url = \"https://stats.idre.ucla.edu/stat/data/mmreg.csv\"\n",
    "df = pd.read_csv(url)\n",
    "df\n",
    "# Psychological variables\n",
    "X = df[[\"locus_of_control\", \"self_concept\", \"motivation\"]]\n",
    "\n",
    "# Academic + gender variables\n",
    "Y = df[[\"read\", \"write\", \"math\", \"science\", \"female\"]]\n",
    "\n",
    "# Perform Canonical Correlation Analysis\n",
    "cca = CCA(n_components=3)\n",
    "cca.fit(X, Y)\n",
    "\n",
    "X_c, Y_c = cca.transform(X, Y)\n",
    "\n",
    "print(\"Canonical correlations:\")\n",
    "for i in range(3):\n",
    "    corr = np.corrcoef(X_c[:, i], Y_c[:, i])[0,1]\n",
    "    print(f\"Canonical Dimension {i+1}: {corr:.3f}\")\n"
   ]
  },
  {
   "cell_type": "markdown",
   "id": "5f2c07c4-f574-4efa-b28d-bf0d5c2ed52b",
   "metadata": {},
   "source": [
    "Interpretation:\n",
    "\n",
    "The first canonical variate shows that students with higher motivation, self-concept, and internal locus of control perform better in reading, writing, math, science, regardless of gender.\n",
    "\n",
    "The second variate may capture smaller gender-related differences.\n",
    "\n",
    "The third variate explains little additional information.\n",
    "\n",
    "Conclusion:\n",
    "Only 1–2 canonical dimensions are necessary; they capture the major association between psychological and academic variables."
   ]
  },
  {
   "cell_type": "code",
   "execution_count": null,
   "id": "c25a7f4c-eb12-47b5-9d00-c4af82bcde53",
   "metadata": {},
   "outputs": [],
   "source": []
  }
 ],
 "metadata": {
  "kernelspec": {
   "display_name": "Python 3 (ipykernel)",
   "language": "python",
   "name": "python3"
  },
  "language_info": {
   "codemirror_mode": {
    "name": "ipython",
    "version": 3
   },
   "file_extension": ".py",
   "mimetype": "text/x-python",
   "name": "python",
   "nbconvert_exporter": "python",
   "pygments_lexer": "ipython3",
   "version": "3.12.7"
  }
 },
 "nbformat": 4,
 "nbformat_minor": 5
}
